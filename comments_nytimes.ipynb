{
 "cells": [
  {
   "cell_type": "markdown",
   "id": "9acaef5a-c766-465f-af31-06f0093b4167",
   "metadata": {},
   "source": [
    "### Step 1: Import Necessary Libraries"
   ]
  },
  {
   "cell_type": "code",
   "execution_count": 18,
   "id": "4074ef6e-a5fd-459e-bdce-94de6ab5f2cc",
   "metadata": {},
   "outputs": [],
   "source": [
    "import pandas as pd\n",
    "from nytimes_scraper.nyt_api import NytApi\n",
    "from nytimes_scraper.comments import fetch_comments_by_article, comments_to_df\n"
   ]
  },
  {
   "cell_type": "markdown",
   "id": "a0a91bbf-113f-4f51-8175-d8bcbcd95522",
   "metadata": {},
   "source": [
    "## Step 2: Access your API Key"
   ]
  },
  {
   "cell_type": "code",
   "execution_count": 20,
   "id": "950f5507-39be-4ddb-8045-91c4dbcc4c81",
   "metadata": {},
   "outputs": [],
   "source": [
    "api = NytApi('owjL3q1wD8x7tvdC8UGXBBLKsvaA6eoV')"
   ]
  },
  {
   "cell_type": "markdown",
   "id": "78f8b832-7115-4711-8455-19c2f29c4de5",
   "metadata": {},
   "source": [
    "## Step 3: Read URLs From CSV File"
   ]
  },
  {
   "cell_type": "code",
   "execution_count": 22,
   "id": "8075a974-6351-44ca-a8eb-13d9c7531009",
   "metadata": {},
   "outputs": [],
   "source": [
    "def read_urls_from_csv(file_path):\n",
    "    \"\"\"\n",
    "    Reads a CSV file and extracts article URLs and titles.\n",
    "    \n",
    "    Parameters:\n",
    "    file_path (str): Path to the CSV file containing article URLs.\n",
    "    \n",
    "    Returns:\n",
    "    pd.DataFrame: A DataFrame containing article URLs and titles.\n",
    "    \"\"\"\n",
    "    df = pd.read_csv(file_path)\n",
    "    df.columns = df.columns.str.strip()\n",
    "    print(\"Columns in the CSV file:\", df.columns)\n",
    "    articles_df = df[['web_url', 'title']].copy()\n",
    "    return articles_df"
   ]
  },
  {
   "cell_type": "markdown",
   "id": "34e5c501-d22e-438d-bff6-4d9bcaff5420",
   "metadata": {},
   "source": [
    "## Step 4: Process Comments and Replies "
   ]
  },
  {
   "cell_type": "code",
   "execution_count": 24,
   "id": "63591c27-1b55-49ce-99e4-e59fbbed10b2",
   "metadata": {},
   "outputs": [],
   "source": [
    "def process_comment_thread(comment, article_url, article_title, all_comments):\n",
    "    \"\"\"\n",
    "    Recursively process a comment and its replies, adding article metadata to each.\n",
    "    \n",
    "    Parameters:\n",
    "    comment (dict): The comment to process\n",
    "    article_url (str): The URL of the article\n",
    "    article_title (str): The title of the article\n",
    "    all_comments (list): List to store all processed comments\n",
    "    \"\"\"\n",
    "    # Add article metadata to the current comment\n",
    "    comment['web_url'] = article_url\n",
    "    comment['title'] = article_title\n",
    "    \n",
    "    # Store the processed comment\n",
    "    all_comments.append(comment)\n",
    "    \n",
    "    # Process replies if they exist\n",
    "    if 'replies' in comment and comment['replies']:\n",
    "        for reply in comment['replies']:\n",
    "            process_comment_thread(reply, article_url, article_title, all_comments)"
   ]
  },
  {
   "cell_type": "markdown",
   "id": "856234c1-a44f-48b7-a73f-7b6ceff5c237",
   "metadata": {},
   "source": [
    "## Step 5: Fetch Comments from the URLs"
   ]
  },
  {
   "cell_type": "code",
   "execution_count": 26,
   "id": "b5e692c4-6970-4a48-8b89-da921f50daf5",
   "metadata": {},
   "outputs": [],
   "source": [
    "def fetch_comments_for_urls(api, articles_df):\n",
    "    \"\"\"\n",
    "    Fetch comments for articles and preserve article metadata for all comments and replies.\n",
    "    \n",
    "    Parameters:\n",
    "    api (NytApi): An instance of the NytApi class.\n",
    "    articles_df (pd.DataFrame): DataFrame containing article URLs and titles.\n",
    "    \n",
    "    Returns:\n",
    "    List[dict]: A list of comment dictionaries with article metadata.\n",
    "    \"\"\"\n",
    "    all_comments = []\n",
    "    \n",
    "    for _, article in articles_df.iterrows():\n",
    "        url = article['web_url']\n",
    "        title = article['title']\n",
    "        \n",
    "        try:\n",
    "            print(f\"Fetching comments for: {title}\")\n",
    "            comments = fetch_comments_by_article(api, url)\n",
    "            \n",
    "            # Process each top-level comment and its replies\n",
    "            for comment in comments:\n",
    "                process_comment_thread(comment, url, title, all_comments)\n",
    "                \n",
    "        except Exception as e:\n",
    "            print(f\"Error fetching comments for {url}: {e}\")\n",
    "    \n",
    "    return all_comments"
   ]
  },
  {
   "cell_type": "markdown",
   "id": "6cd05a85-3bb8-4098-bdb6-029ba3905ee9",
   "metadata": {},
   "source": [
    "## Step 6: Save Comments to a CSV File"
   ]
  },
  {
   "cell_type": "code",
   "execution_count": 28,
   "id": "fff58d86-3cfa-4894-94cf-9a8022ef01aa",
   "metadata": {},
   "outputs": [],
   "source": [
    "def save_comments_to_csv(comments, output_file):\n",
    "    \"\"\"\n",
    "    Save comments with article metadata to a CSV file.\n",
    "    \n",
    "    Parameters:\n",
    "    comments (List[dict]): A list of comment dictionaries with article metadata.\n",
    "    output_file (str): Path to the output CSV file.\n",
    "    \"\"\"\n",
    "    if comments:\n",
    "        # Convert the comments to a DataFrame\n",
    "        comment_df = comments_to_df(comments)\n",
    "        \n",
    "        # Ensure article metadata columns are first\n",
    "        metadata_cols = ['web_url', 'title']\n",
    "        other_cols = [col for col in comment_df.columns if col not in metadata_cols]\n",
    "        comment_df = comment_df[metadata_cols + other_cols]\n",
    "        \n",
    "        # Save the DataFrame to a CSV file\n",
    "        comment_df.to_csv(output_file, index=False)\n",
    "        print(f\"Comments saved to {output_file}\")\n",
    "        \n",
    "        # Print summary statistics\n",
    "        print(f\"\\nSummary:\")\n",
    "        print(f\"Total number of comments: {len(comment_df)}\")\n",
    "        print(f\"Number of articles with comments: {comment_df['article_url'].nunique()}\")\n",
    "        print(f\"Number of top-level comments: {len(comment_df[comment_df['parentID'].isna()])}\")\n",
    "        print(f\"Number of replies: {len(comment_df[comment_df['parentID'].notna()])}\")\n",
    "        \n",
    "        # Verify metadata consistency\n",
    "        missing_metadata = comment_df[comment_df['web_url'].isna() | comment_df['title'].isna()]\n",
    "        if not missing_metadata.empty:\n",
    "            print(f\"\\nWarning: {len(missing_metadata)} comments are missing article metadata\")\n",
    "    else:\n",
    "        print(\"No comments found!\")"
   ]
  },
  {
   "cell_type": "markdown",
   "id": "15ab6d32-adcf-4a24-81d4-921eca968168",
   "metadata": {},
   "source": [
    "## Step 7: Main Function to Orchestrate the Process"
   ]
  },
  {
   "cell_type": "code",
   "execution_count": 30,
   "id": "fa31cec8-aaec-4231-9f34-955d0292d10f",
   "metadata": {},
   "outputs": [],
   "source": [
    "def main(input_csv, output_csv, api_key):\n",
    "    \"\"\"\n",
    "    Main function to orchestrate the comment collection process.\n",
    "    \n",
    "    Parameters:\n",
    "    input_csv (str): Path to the input CSV file containing article URLs.\n",
    "    output_csv (str): Path to the output CSV file to save comments.\n",
    "    api_key (str): NYTimes API key.\n",
    "    \"\"\"\n",
    "    api = NytApi(api_key)\n",
    "    articles_df = read_urls_from_csv(input_csv)\n",
    "    comments = fetch_comments_for_urls(api, articles_df)\n",
    "    save_comments_to_csv(comments, output_csv)"
   ]
  },
  {
   "cell_type": "markdown",
   "id": "4cfb50eb-5613-49e9-a6c7-96e79c399ec9",
   "metadata": {},
   "source": [
    "## Step 8: Running the Script"
   ]
  },
  {
   "cell_type": "code",
   "execution_count": 32,
   "id": "f8466859-e8a6-4146-8d45-41d613961a7a",
   "metadata": {},
   "outputs": [
    {
     "name": "stdout",
     "output_type": "stream",
     "text": [
      "Columns in the CSV file: Index(['Unnamed: 0', 'abstract', 'web_url', 'snippet', 'lead_paragraph',\n",
      "       'source', 'multimedia', 'headline', 'keywords', 'pub_date',\n",
      "       'document_type', 'news_desk', 'section_name', 'byline',\n",
      "       'type_of_material', '_id', 'word_count', 'uri', 'print_section',\n",
      "       'print_page', 'subsection_name', 'title'],\n",
      "      dtype='object')\n",
      "Fetching comments for: Hochul Launches Investigation Into Drone Sightings in New York\n",
      "Fetching comments for: Are Those Drones Over New Jersey? Despite Sightings, U.S. Is Skeptical.\n",
      "Fetching comments for: Late Night Continues to Drone On About Sightings in the Sky\n",
      "Fetching comments for: Weeks of Drone Sightings Leave New Jersey on Edge\n",
      "Fetching comments for: No Evidence Drones in Northeast Are a Threat, Officials Say\n",
      "Fetching comments for: U.S. Officials Say Sightings Are Mix of Planes, Stars and Legal Drones\n",
      "Fetching comments for: How Drone Fever Spread Across New Jersey and Beyond\n",
      "Fetching comments for: White House Says F.A.A. Authorized N.J. Drones: ‘This Was Not the Enemy’\n",
      "Fetching comments for: F.A.A. Bans Drone Flights Near Key Sites in New York\n",
      "Fetching comments for: How to Make the Drone Panic So Very Much Worse\n",
      "Comments saved to drone_comments.csv\n",
      "\n",
      "Summary:\n",
      "Total number of comments: 4166\n"
     ]
    },
    {
     "name": "stderr",
     "output_type": "stream",
     "text": [
      "/opt/anaconda3/lib/python3.12/site-packages/nytimes_scraper/comments/postprocessing.py:21: FutureWarning: The behavior of 'to_datetime' with 'unit' when parsing strings is deprecated. In a future version, strings will be parsed as datetime strings, matching the behavior without a 'unit'. To retain the old behavior, explicitly cast ints or floats to numeric type before calling to_datetime.\n",
      "  df[col] = pd.to_datetime(df[col], unit='s')\n",
      "/opt/anaconda3/lib/python3.12/site-packages/nytimes_scraper/comments/postprocessing.py:21: FutureWarning: The behavior of 'to_datetime' with 'unit' when parsing strings is deprecated. In a future version, strings will be parsed as datetime strings, matching the behavior without a 'unit'. To retain the old behavior, explicitly cast ints or floats to numeric type before calling to_datetime.\n",
      "  df[col] = pd.to_datetime(df[col], unit='s')\n",
      "/opt/anaconda3/lib/python3.12/site-packages/nytimes_scraper/comments/postprocessing.py:21: FutureWarning: The behavior of 'to_datetime' with 'unit' when parsing strings is deprecated. In a future version, strings will be parsed as datetime strings, matching the behavior without a 'unit'. To retain the old behavior, explicitly cast ints or floats to numeric type before calling to_datetime.\n",
      "  df[col] = pd.to_datetime(df[col], unit='s')\n"
     ]
    },
    {
     "ename": "KeyError",
     "evalue": "'article_url'",
     "output_type": "error",
     "traceback": [
      "\u001b[0;31m---------------------------------------------------------------------------\u001b[0m",
      "\u001b[0;31mKeyError\u001b[0m                                  Traceback (most recent call last)",
      "File \u001b[0;32m/opt/anaconda3/lib/python3.12/site-packages/pandas/core/indexes/base.py:3805\u001b[0m, in \u001b[0;36mIndex.get_loc\u001b[0;34m(self, key)\u001b[0m\n\u001b[1;32m   3804\u001b[0m \u001b[38;5;28;01mtry\u001b[39;00m:\n\u001b[0;32m-> 3805\u001b[0m     \u001b[38;5;28;01mreturn\u001b[39;00m \u001b[38;5;28mself\u001b[39m\u001b[38;5;241m.\u001b[39m_engine\u001b[38;5;241m.\u001b[39mget_loc(casted_key)\n\u001b[1;32m   3806\u001b[0m \u001b[38;5;28;01mexcept\u001b[39;00m \u001b[38;5;167;01mKeyError\u001b[39;00m \u001b[38;5;28;01mas\u001b[39;00m err:\n",
      "File \u001b[0;32mindex.pyx:167\u001b[0m, in \u001b[0;36mpandas._libs.index.IndexEngine.get_loc\u001b[0;34m()\u001b[0m\n",
      "File \u001b[0;32mindex.pyx:196\u001b[0m, in \u001b[0;36mpandas._libs.index.IndexEngine.get_loc\u001b[0;34m()\u001b[0m\n",
      "File \u001b[0;32mpandas/_libs/hashtable_class_helper.pxi:7081\u001b[0m, in \u001b[0;36mpandas._libs.hashtable.PyObjectHashTable.get_item\u001b[0;34m()\u001b[0m\n",
      "File \u001b[0;32mpandas/_libs/hashtable_class_helper.pxi:7089\u001b[0m, in \u001b[0;36mpandas._libs.hashtable.PyObjectHashTable.get_item\u001b[0;34m()\u001b[0m\n",
      "\u001b[0;31mKeyError\u001b[0m: 'article_url'",
      "\nThe above exception was the direct cause of the following exception:\n",
      "\u001b[0;31mKeyError\u001b[0m                                  Traceback (most recent call last)",
      "Cell \u001b[0;32mIn[32], line 7\u001b[0m\n\u001b[1;32m      4\u001b[0m output_csv \u001b[38;5;241m=\u001b[39m \u001b[38;5;124m\"\u001b[39m\u001b[38;5;124mdrone_comments.csv\u001b[39m\u001b[38;5;124m\"\u001b[39m\n\u001b[1;32m      5\u001b[0m api_key \u001b[38;5;241m=\u001b[39m \u001b[38;5;124m\"\u001b[39m\u001b[38;5;124mowjL3q1wD8x7tvdC8UGXBBLKsvaA6eoV\u001b[39m\u001b[38;5;124m\"\u001b[39m \u001b[38;5;66;03m# Replace with your actual API key\u001b[39;00m\n\u001b[0;32m----> 7\u001b[0m main(input_csv, output_csv, api_key)\n",
      "Cell \u001b[0;32mIn[30], line 13\u001b[0m, in \u001b[0;36mmain\u001b[0;34m(input_csv, output_csv, api_key)\u001b[0m\n\u001b[1;32m     11\u001b[0m articles_df \u001b[38;5;241m=\u001b[39m read_urls_from_csv(input_csv)\n\u001b[1;32m     12\u001b[0m comments \u001b[38;5;241m=\u001b[39m fetch_comments_for_urls(api, articles_df)\n\u001b[0;32m---> 13\u001b[0m save_comments_to_csv(comments, output_csv)\n",
      "Cell \u001b[0;32mIn[28], line 25\u001b[0m, in \u001b[0;36msave_comments_to_csv\u001b[0;34m(comments, output_file)\u001b[0m\n\u001b[1;32m     23\u001b[0m \u001b[38;5;28mprint\u001b[39m(\u001b[38;5;124mf\u001b[39m\u001b[38;5;124m\"\u001b[39m\u001b[38;5;130;01m\\n\u001b[39;00m\u001b[38;5;124mSummary:\u001b[39m\u001b[38;5;124m\"\u001b[39m)\n\u001b[1;32m     24\u001b[0m \u001b[38;5;28mprint\u001b[39m(\u001b[38;5;124mf\u001b[39m\u001b[38;5;124m\"\u001b[39m\u001b[38;5;124mTotal number of comments: \u001b[39m\u001b[38;5;132;01m{\u001b[39;00m\u001b[38;5;28mlen\u001b[39m(comment_df)\u001b[38;5;132;01m}\u001b[39;00m\u001b[38;5;124m\"\u001b[39m)\n\u001b[0;32m---> 25\u001b[0m \u001b[38;5;28mprint\u001b[39m(\u001b[38;5;124mf\u001b[39m\u001b[38;5;124m\"\u001b[39m\u001b[38;5;124mNumber of articles with comments: \u001b[39m\u001b[38;5;132;01m{\u001b[39;00mcomment_df[\u001b[38;5;124m'\u001b[39m\u001b[38;5;124marticle_url\u001b[39m\u001b[38;5;124m'\u001b[39m]\u001b[38;5;241m.\u001b[39mnunique()\u001b[38;5;132;01m}\u001b[39;00m\u001b[38;5;124m\"\u001b[39m)\n\u001b[1;32m     26\u001b[0m \u001b[38;5;28mprint\u001b[39m(\u001b[38;5;124mf\u001b[39m\u001b[38;5;124m\"\u001b[39m\u001b[38;5;124mNumber of top-level comments: \u001b[39m\u001b[38;5;132;01m{\u001b[39;00m\u001b[38;5;28mlen\u001b[39m(comment_df[comment_df[\u001b[38;5;124m'\u001b[39m\u001b[38;5;124mparentID\u001b[39m\u001b[38;5;124m'\u001b[39m]\u001b[38;5;241m.\u001b[39misna()])\u001b[38;5;132;01m}\u001b[39;00m\u001b[38;5;124m\"\u001b[39m)\n\u001b[1;32m     27\u001b[0m \u001b[38;5;28mprint\u001b[39m(\u001b[38;5;124mf\u001b[39m\u001b[38;5;124m\"\u001b[39m\u001b[38;5;124mNumber of replies: \u001b[39m\u001b[38;5;132;01m{\u001b[39;00m\u001b[38;5;28mlen\u001b[39m(comment_df[comment_df[\u001b[38;5;124m'\u001b[39m\u001b[38;5;124mparentID\u001b[39m\u001b[38;5;124m'\u001b[39m]\u001b[38;5;241m.\u001b[39mnotna()])\u001b[38;5;132;01m}\u001b[39;00m\u001b[38;5;124m\"\u001b[39m)\n",
      "File \u001b[0;32m/opt/anaconda3/lib/python3.12/site-packages/pandas/core/frame.py:4102\u001b[0m, in \u001b[0;36mDataFrame.__getitem__\u001b[0;34m(self, key)\u001b[0m\n\u001b[1;32m   4100\u001b[0m \u001b[38;5;28;01mif\u001b[39;00m \u001b[38;5;28mself\u001b[39m\u001b[38;5;241m.\u001b[39mcolumns\u001b[38;5;241m.\u001b[39mnlevels \u001b[38;5;241m>\u001b[39m \u001b[38;5;241m1\u001b[39m:\n\u001b[1;32m   4101\u001b[0m     \u001b[38;5;28;01mreturn\u001b[39;00m \u001b[38;5;28mself\u001b[39m\u001b[38;5;241m.\u001b[39m_getitem_multilevel(key)\n\u001b[0;32m-> 4102\u001b[0m indexer \u001b[38;5;241m=\u001b[39m \u001b[38;5;28mself\u001b[39m\u001b[38;5;241m.\u001b[39mcolumns\u001b[38;5;241m.\u001b[39mget_loc(key)\n\u001b[1;32m   4103\u001b[0m \u001b[38;5;28;01mif\u001b[39;00m is_integer(indexer):\n\u001b[1;32m   4104\u001b[0m     indexer \u001b[38;5;241m=\u001b[39m [indexer]\n",
      "File \u001b[0;32m/opt/anaconda3/lib/python3.12/site-packages/pandas/core/indexes/base.py:3812\u001b[0m, in \u001b[0;36mIndex.get_loc\u001b[0;34m(self, key)\u001b[0m\n\u001b[1;32m   3807\u001b[0m     \u001b[38;5;28;01mif\u001b[39;00m \u001b[38;5;28misinstance\u001b[39m(casted_key, \u001b[38;5;28mslice\u001b[39m) \u001b[38;5;129;01mor\u001b[39;00m (\n\u001b[1;32m   3808\u001b[0m         \u001b[38;5;28misinstance\u001b[39m(casted_key, abc\u001b[38;5;241m.\u001b[39mIterable)\n\u001b[1;32m   3809\u001b[0m         \u001b[38;5;129;01mand\u001b[39;00m \u001b[38;5;28many\u001b[39m(\u001b[38;5;28misinstance\u001b[39m(x, \u001b[38;5;28mslice\u001b[39m) \u001b[38;5;28;01mfor\u001b[39;00m x \u001b[38;5;129;01min\u001b[39;00m casted_key)\n\u001b[1;32m   3810\u001b[0m     ):\n\u001b[1;32m   3811\u001b[0m         \u001b[38;5;28;01mraise\u001b[39;00m InvalidIndexError(key)\n\u001b[0;32m-> 3812\u001b[0m     \u001b[38;5;28;01mraise\u001b[39;00m \u001b[38;5;167;01mKeyError\u001b[39;00m(key) \u001b[38;5;28;01mfrom\u001b[39;00m \u001b[38;5;21;01merr\u001b[39;00m\n\u001b[1;32m   3813\u001b[0m \u001b[38;5;28;01mexcept\u001b[39;00m \u001b[38;5;167;01mTypeError\u001b[39;00m:\n\u001b[1;32m   3814\u001b[0m     \u001b[38;5;66;03m# If we have a listlike key, _check_indexing_error will raise\u001b[39;00m\n\u001b[1;32m   3815\u001b[0m     \u001b[38;5;66;03m#  InvalidIndexError. Otherwise we fall through and re-raise\u001b[39;00m\n\u001b[1;32m   3816\u001b[0m     \u001b[38;5;66;03m#  the TypeError.\u001b[39;00m\n\u001b[1;32m   3817\u001b[0m     \u001b[38;5;28mself\u001b[39m\u001b[38;5;241m.\u001b[39m_check_indexing_error(key)\n",
      "\u001b[0;31mKeyError\u001b[0m: 'article_url'"
     ]
    }
   ],
   "source": [
    "# Example usage\n",
    "if __name__ == \"__main__\":\n",
    "    input_csv = \"dronearticles.csv\"\n",
    "    output_csv = \"drone_comments.csv\"\n",
    "    api_key = \"owjL3q1wD8x7tvdC8UGXBBLKsvaA6eoV\" # Replace with your actual API key\n",
    "    \n",
    "    main(input_csv, output_csv, api_key)"
   ]
  },
  {
   "cell_type": "code",
   "execution_count": null,
   "id": "83a9e024-8d0b-4dc7-b209-d86a1734b343",
   "metadata": {},
   "outputs": [],
   "source": []
  }
 ],
 "metadata": {
  "kernelspec": {
   "display_name": "Python 3 (ipykernel)",
   "language": "python",
   "name": "python3"
  },
  "language_info": {
   "codemirror_mode": {
    "name": "ipython",
    "version": 3
   },
   "file_extension": ".py",
   "mimetype": "text/x-python",
   "name": "python",
   "nbconvert_exporter": "python",
   "pygments_lexer": "ipython3",
   "version": "3.12.7"
  }
 },
 "nbformat": 4,
 "nbformat_minor": 5
}
